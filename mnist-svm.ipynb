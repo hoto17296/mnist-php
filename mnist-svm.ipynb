{
 "cells": [
  {
   "cell_type": "code",
   "execution_count": null,
   "metadata": {},
   "outputs": [],
   "source": [
    "require_once '/vendor/autoload.php';"
   ]
  },
  {
   "cell_type": "markdown",
   "metadata": {},
   "source": [
    "### 利用するディレクトリやファイルパスの設定"
   ]
  },
  {
   "cell_type": "code",
   "execution_count": null,
   "metadata": {},
   "outputs": [],
   "source": [
    "$DATA_DIR = './data/';\n",
    "$MODEL_FILE = './model/mnist-svm.phpml';"
   ]
  },
  {
   "cell_type": "markdown",
   "metadata": {},
   "source": [
    "### ModelManager を作成する\n",
    "学習したモデルをファイルに保存したり、学習済みモデルのファイルを読み込んだりするためのクラス"
   ]
  },
  {
   "cell_type": "code",
   "execution_count": null,
   "metadata": {},
   "outputs": [],
   "source": [
    "use Phpml\\ModelManager;\n",
    "\n",
    "$modelManager = new ModelManager();"
   ]
  },
  {
   "cell_type": "markdown",
   "metadata": {},
   "source": [
    "### データセットを読み込む\n",
    "- trainDataset: モデルの学習に使用するためのデータセット\n",
    "- testDataset: 学習したモデルの評価に使うためのデータセット"
   ]
  },
  {
   "cell_type": "code",
   "execution_count": null,
   "metadata": {},
   "outputs": [],
   "source": [
    "use Phpml\\Dataset\\MnistDataset;\n",
    "\n",
    "$trainDataset = new MnistDataset($DATA_DIR . 'train-images-idx3-ubyte', $DATA_DIR . 'train-labels-idx1-ubyte');\n",
    "$testDataset = new MnistDataset($DATA_DIR . 't10k-images-idx3-ubyte', $DATA_DIR . 't10k-labels-idx1-ubyte');"
   ]
  },
  {
   "cell_type": "markdown",
   "metadata": {},
   "source": [
    "### モデルを作成する\n",
    "今回は分類アルゴリズムとしてサポートベクターマシン (SVM) を利用する。\n",
    "\n",
    "PHP-ML では、SVM の分類器は `SVC` と言う名前で提供されている。"
   ]
  },
  {
   "cell_type": "code",
   "execution_count": null,
   "metadata": {},
   "outputs": [],
   "source": [
    "use Phpml\\Classification\\SVC;\n",
    "\n",
    "$classifier = new SVC();"
   ]
  },
  {
   "cell_type": "markdown",
   "metadata": {},
   "source": [
    "### モデルを学習する\n",
    "1時間くらいかかった"
   ]
  },
  {
   "cell_type": "code",
   "execution_count": null,
   "metadata": {},
   "outputs": [],
   "source": [
    "$start = microtime(true);\n",
    "$classifier->train($trainDataset->getSamples(), $trainDataset->getTargets());\n",
    "echo sprintf('Time: %.1f sec', microtime(true) - $start);"
   ]
  },
  {
   "cell_type": "markdown",
   "metadata": {},
   "source": [
    "### (学習したモデルをファイルに保存する) "
   ]
  },
  {
   "cell_type": "code",
   "execution_count": null,
   "metadata": {},
   "outputs": [],
   "source": [
    "$modelManager->saveToFile($classifier, $MODEL_FILE);"
   ]
  },
  {
   "cell_type": "markdown",
   "metadata": {},
   "source": [
    "### (保存した学習済みモデルを読み込む)"
   ]
  },
  {
   "cell_type": "code",
   "execution_count": null,
   "metadata": {},
   "outputs": [],
   "source": [
    "$classifier = $modelManager->restoreFromFile($MODEL_FILE);"
   ]
  },
  {
   "cell_type": "markdown",
   "metadata": {},
   "source": [
    "### テストデータに対して予測を行う"
   ]
  },
  {
   "cell_type": "code",
   "execution_count": null,
   "metadata": {},
   "outputs": [],
   "source": [
    "$start = microtime(true);\n",
    "$predicted = $classifier->predict($testDataset->getSamples());\n",
    "echo sprintf('Time: %.1f sec', microtime(true) - $start);"
   ]
  },
  {
   "cell_type": "markdown",
   "metadata": {},
   "source": [
    "### 性能を評価する"
   ]
  },
  {
   "cell_type": "code",
   "execution_count": null,
   "metadata": {},
   "outputs": [],
   "source": [
    "use Phpml\\Metric\\Accuracy;\n",
    "\n",
    "echo sprintf('Accuracy: %.2f %%', Accuracy::score($testDataset->getTargets(), $predicted) * 100);"
   ]
  },
  {
   "cell_type": "markdown",
   "metadata": {},
   "source": [
    "### 不正解パターンを確認する"
   ]
  },
  {
   "cell_type": "code",
   "execution_count": null,
   "metadata": {},
   "outputs": [],
   "source": [
    "$actual = $testDataset->getTargets();\n",
    "\n",
    "$results = [];\n",
    "for ($i=0; $i < count($predicted); $i++) {\n",
    "    if ($predicted[$i] != $actual[$i]) {\n",
    "        $results[] = sprintf('(%04d) Predict: %s, Actual: %s', $i, $predicted[$i], $actual[$i]);\n",
    "    }\n",
    "}\n",
    "echo join(\"\\n\", $results);"
   ]
  },
  {
   "cell_type": "markdown",
   "metadata": {},
   "source": [
    "### メモリ使用量を確認する"
   ]
  },
  {
   "cell_type": "code",
   "execution_count": null,
   "metadata": {},
   "outputs": [],
   "source": [
    "$size = memory_get_peak_usage(true);\n",
    "$unit=['B','KB','MB','GB','TB','PB'];\n",
    "echo sprintf('Memory: %s', @round($size/pow(1024, ($i=floor(log($size, 1024)))), 2).' '.$unit[$i]);"
   ]
  },
  {
   "cell_type": "markdown",
   "metadata": {},
   "source": [
    "### 画像を無理やり表示する"
   ]
  },
  {
   "cell_type": "code",
   "execution_count": null,
   "metadata": {},
   "outputs": [],
   "source": [
    "function displayMNIST($arr) {\n",
    "    assert(count($arr) == 784);\n",
    "    $i = 0;\n",
    "    $str = \"\";\n",
    "    foreach ($arr as $item) {\n",
    "        assert($item >= 0 and $item <= 1);\n",
    "        $str .= $item < 0.5 ? '　' : '■';\n",
    "        if (++$i % 28 == 0) $str .= \"\\n\";\n",
    "    }\n",
    "    return $str;\n",
    "}"
   ]
  },
  {
   "cell_type": "code",
   "execution_count": null,
   "metadata": {},
   "outputs": [],
   "source": [
    "echo displayMNIST($testDataset->getSamples()[1]);"
   ]
  },
  {
   "cell_type": "code",
   "execution_count": null,
   "metadata": {},
   "outputs": [],
   "source": []
  }
 ],
 "metadata": {
  "kernelspec": {
   "display_name": "PHP",
   "language": "php",
   "name": "jupyter-php"
  },
  "language_info": {
   "file_extension": ".php",
   "mimetype": "text/x-php",
   "name": "PHP",
   "pygments_lexer": "PHP",
   "version": "7.2.21"
  }
 },
 "nbformat": 4,
 "nbformat_minor": 4
}
