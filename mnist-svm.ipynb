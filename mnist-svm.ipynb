{
 "cells": [
  {
   "cell_type": "code",
   "execution_count": 1,
   "metadata": {},
   "outputs": [
    {
     "data": {
      "text/plain": [
       "Composer\\Autoload\\ClassLoader {#143}"
      ]
     },
     "execution_count": 1,
     "metadata": {},
     "output_type": "execute_result"
    }
   ],
   "source": [
    "require_once '/vendor/autoload.php';"
   ]
  },
  {
   "cell_type": "code",
   "execution_count": 11,
   "metadata": {},
   "outputs": [
    {
     "data": {
      "text/plain": [
       "\"./mnist-svm-model.phpml\""
      ]
     },
     "execution_count": 11,
     "metadata": {},
     "output_type": "execute_result"
    }
   ],
   "source": [
    "$DATA_DIR = './data/';\n",
    "$MODEL_FILE = './mnist-svm-model.phpml';"
   ]
  },
  {
   "cell_type": "code",
   "execution_count": 3,
   "metadata": {},
   "outputs": [],
   "source": [
    "use Phpml\\Classification\\SVC;\n",
    "use Phpml\\Dataset\\MnistDataset;\n",
    "use Phpml\\Metric\\Accuracy;\n",
    "use Phpml\\ModelManager;"
   ]
  },
  {
   "cell_type": "code",
   "execution_count": 4,
   "metadata": {},
   "outputs": [],
   "source": [
    "function convert($size)\n",
    "{\n",
    "    $unit=['B','KB','MB','GB','TB','PB'];\n",
    "    return @round($size/pow(1024, ($i=floor(log($size, 1024)))), 2).' '.$unit[$i];\n",
    "}"
   ]
  },
  {
   "cell_type": "code",
   "execution_count": 6,
   "metadata": {},
   "outputs": [
    {
     "data": {
      "text/plain": [
       "Phpml\\ModelManager {#279}"
      ]
     },
     "execution_count": 6,
     "metadata": {},
     "output_type": "execute_result"
    }
   ],
   "source": [
    "$modelManager = new ModelManager();"
   ]
  },
  {
   "cell_type": "markdown",
   "metadata": {},
   "source": [
    "## Train"
   ]
  },
  {
   "cell_type": "code",
   "execution_count": null,
   "metadata": {},
   "outputs": [],
   "source": [
    "$trainStart = microtime(true);\n",
    "$classifier = new SVC();\n",
    "$trainDataset = new MnistDataset($DATA_DIR . 'train-images-idx3-ubyte', $DATA_DIR . 'train-labels-idx1-ubyte');\n",
    "$classifier->train($trainDataset->getSamples(), $trainDataset->getTargets());\n",
    "echo sprintf('Train time: %s'.PHP_EOL, microtime(true) - $trainStart);\n",
    "\n",
    "$modelStart = microtime(true);\n",
    "$modelManager->saveToFile($classifier, $MODEL_FILE);\n",
    "echo sprintf('Persist time: %s'.PHP_EOL, microtime(true) - $modelStart);"
   ]
  },
  {
   "cell_type": "markdown",
   "metadata": {},
   "source": [
    "## Test"
   ]
  },
  {
   "cell_type": "code",
   "execution_count": 10,
   "metadata": {},
   "outputs": [
    {
     "data": {
      "text/plain": [
       "Predict time: 164.58884096146\n",
       "\n"
      ]
     },
     "execution_count": 10,
     "metadata": {},
     "output_type": "execute_result"
    },
    {
     "data": {
      "text/plain": [
       "Accuracy: 0.9446\n"
      ]
     },
     "execution_count": 10,
     "metadata": {},
     "output_type": "execute_result"
    },
    {
     "data": {
      "text/plain": [
       "Memory: 6.89 gb\n"
      ]
     },
     "execution_count": 10,
     "metadata": {},
     "output_type": "execute_result"
    }
   ],
   "source": [
    "$predictStart = microtime(true);\n",
    "$classifier = $modelManager->restoreFromFile($MODEL_FILE);\n",
    "$testDataset = new MnistDataset($DATA_DIR . 't10k-images-idx3-ubyte', $DATA_DIR . 't10k-labels-idx1-ubyte');\n",
    "$predicted = $classifier->predict($testDataset->getSamples());\n",
    "echo sprintf('Predict time: %s'.PHP_EOL, microtime(true) - $predictStart);\n",
    "\n",
    "echo sprintf('Accuracy: %s', Accuracy::score($testDataset->getTargets(), $predicted));\n",
    "echo sprintf('Memory: %s', convert(memory_get_peak_usage(true)));"
   ]
  },
  {
   "cell_type": "code",
   "execution_count": null,
   "metadata": {},
   "outputs": [],
   "source": []
  }
 ],
 "metadata": {
  "kernelspec": {
   "display_name": "PHP",
   "language": "php",
   "name": "jupyter-php"
  },
  "language_info": {
   "file_extension": ".php",
   "mimetype": "text/x-php",
   "name": "PHP",
   "pygments_lexer": "PHP",
   "version": "7.2.21"
  }
 },
 "nbformat": 4,
 "nbformat_minor": 4
}
